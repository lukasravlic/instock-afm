{
 "cells": [
  {
   "cell_type": "code",
   "execution_count": 2,
   "metadata": {},
   "outputs": [],
   "source": [
    "import os\n",
    "import pandas as pd\n",
    "import datetime\n",
    "from dateutil.relativedelta import relativedelta   \n",
    "import getpass"
   ]
  },
  {
   "cell_type": "code",
   "execution_count": 3,
   "metadata": {},
   "outputs": [],
   "source": [
    "nombre_usuario = getpass.getuser()\n",
    "#archivo_evolutivo = pd.read_excel(f\"C:/Users/{nombre_usuario}/Grupo Derco/Planificación y Compras Chile - Documentos/Planificación y Compras KPI-Reportes/Instock Semanal/Evolutivo.xlsx\" )\n",
    "# archivo_evolutivo['Venta UMB'] = archivo_evolutivo['Venta UMB']/6\n",
    "hoy = datetime.datetime.today().strftime(\"%Y-%m-%d\")"
   ]
  },
  {
   "cell_type": "code",
   "execution_count": 4,
   "metadata": {},
   "outputs": [],
   "source": [
    "def obtener_nombre_mes(numero_mes):\n",
    "    meses = {\n",
    "        1: \"Enero\",\n",
    "        2: \"Febrero\",\n",
    "        3: \"Marzo\",\n",
    "        4: \"Abril\",\n",
    "        5: \"Mayo\",\n",
    "        6: \"Junio\",\n",
    "        7: \"Julio\",\n",
    "        8: \"Agosto\",\n",
    "        9: \"Septiembre\",\n",
    "        10: \"Octubre\",\n",
    "        11: \"Noviembre\",\n",
    "        12: \"Diciembre\"\n",
    "    }\n",
    "    return meses.get(numero_mes, \"Mes no válido\")\n",
    "nombre_mes = obtener_nombre_mes(datetime.date.today().month)\n"
   ]
  },
  {
   "cell_type": "code",
   "execution_count": 5,
   "metadata": {},
   "outputs": [],
   "source": [
    "dtype ={'ue': str}\n",
    "valores_permitidos = ['Accesorios-Car Care','Rep.Alter.Maquinaria','Repuesto Alternativo','Baterías','Neumáticos','Lubricantes']\n",
    "mara_ue = pd.read_excel(f\"C:/Users/{nombre_usuario}/Inchcape/Planificación y Compras Chile - Documentos/Planificación y Compras KPI-Reportes/Instock Semanal/Maestra Aftermarket Actualizable.xlsx\", usecols=['ue','Nombre Sector'], dtype= dtype)\n",
    "mara_ue = mara_ue.drop_duplicates(subset=['ue'])\n",
    "mara_filtrada = mara_ue[mara_ue['Nombre Sector'].isin(valores_permitidos)]\n",
    "# mara_filtrada['UE'] = mara_filtrada['UE'].astype('str')\n",
    "\n",
    "mara_filtrada.loc[:, 'ue'] = mara_filtrada['ue'].astype(str)\n",
    "mara_filtrada.loc[:, 'ue'] = mara_filtrada['ue']"
   ]
  },
  {
   "cell_type": "code",
   "execution_count": 6,
   "metadata": {},
   "outputs": [],
   "source": [
    "carpeta = f\"C:/Users/{nombre_usuario}/Inchcape/Planificación y Compras Chile - Documentos/Planificación y Compras KPI-Reportes/Tubo Semanal\"\n",
    "carpeta_ventas = f\"C:/Users/{nombre_usuario}/Inchcape/Planificación y Compras Chile - Documentos/Planificación y Compras KPI-Reportes/Tubo Semanal\"\n",
    "#carpeta_destino = f\"C:/Users/{nombre_usuario}/Grupo Derco/Planificación y Compras Chile - Documentos/Planificación y Compras KPI-Reportes/Instock Semanal/SEM {}\".format(datetime.date.today().isocalendar()[1])\n",
    "numero_semana = datetime.datetime.today().isocalendar()[1]"
   ]
  },
  {
   "cell_type": "code",
   "execution_count": 7,
   "metadata": {},
   "outputs": [],
   "source": [
    "nombre_carpeta = \"SEM {}\".format(datetime.datetime.today().isocalendar()[1])\n",
    "\n",
    "# Specify the path where you want to create the folder\n",
    "ubi_carpeta = f\"C:/Users/{nombre_usuario}/Inchcape/Planificación y Compras Chile - Documentos/Planificacion y Compras Procesos y Metodos/Pandas/INSTOCK\"\n",
    "\n",
    "# Combine the folder name with the path to create the full path\n",
    "carp_semana_instock = os.path.join(ubi_carpeta, nombre_carpeta)"
   ]
  },
  {
   "cell_type": "code",
   "execution_count": 8,
   "metadata": {},
   "outputs": [
    {
     "name": "stdout",
     "output_type": "stream",
     "text": [
      "C:/Users/lravlic/Inchcape/Planificación y Compras Chile - Documentos/Planificación y Compras KPI-Reportes/Tubo Semanal\\2024-04-01\\2024-04-01 - Stock S4.xlsx\n"
     ]
    },
    {
     "data": {
      "text/plain": [
       "3264743.005"
      ]
     },
     "execution_count": 8,
     "metadata": {},
     "output_type": "execute_result"
    }
   ],
   "source": [
    "carpetadestino = os.listdir(f\"C:/Users/{nombre_usuario}/Inchcape/Planificación y Compras Chile - Documentos/Planificación y Compras KPI-Reportes/Tubo Semanal\")[-2]\n",
    "stock_destino = os.path.join(f\"C:/Users/{nombre_usuario}/Inchcape/Planificación y Compras Chile - Documentos/Planificación y Compras KPI-Reportes/Tubo Semanal\", carpetadestino)    \n",
    "#ruta = stock_destino + '/2023-10-30 - Stock.xlsx'.format(datetime.datetime.today().isocalendar()[1])\n",
    "stock_destino_l = os.listdir(stock_destino)\n",
    "for i  in stock_destino_l:\n",
    "    if 'tock' in i and not 'iendas' in i and not 'añol' in i and 'S4' in i:\n",
    "        ruta = os.path.join(stock_destino, i)\n",
    "        print(ruta)\n",
    "\n",
    "# ruta = f\"C:/Users/{nombre_usuario}/Inchcape/Planificación y Compras Chile - Documentos/Planificación y Compras KPI-Reportes/Tubo Semanal/2024-01-02/2024-01-02 - Stock.XLSX\"\n",
    "stock = pd.read_excel(ruta,sheet_name='Sheet1', usecols=['Material', 'Libre utilización'])\n",
    "# #stock = stock.iloc[stock['Almacen'] != 1600]\n",
    "stock_suma = stock.groupby('Material', as_index=False).agg({'Libre utilización': 'sum'})\n",
    "stock_suma['Libre utilización'].sum()"
   ]
  },
  {
   "cell_type": "code",
   "execution_count": 9,
   "metadata": {},
   "outputs": [
    {
     "name": "stdout",
     "output_type": "stream",
     "text": [
      "['01.04.2024 Cliente - Canal - Sector.xlsx', '2024-03 BaseClientes_ClasesMovimientos_OEM R3.xlsx', '2024-04 Base Flag IPL OEM.xlsx', 'COD_ACTUAL_R3_20240331.xlsx', 'COD_ACTUAL_S4_20240331.xlsx', 'Costos UN CPP ciclo May-24.xlsx', 'Estrategicos Chile - Cierre Marzo 2024.xlsx', 'MARA_R3_20240331.xlsx', 'MARA_S4_20240401_jc.xlsx', 'new_obso_repuestos_cl_inchcape_202403 vf.xlsx', 'new_obso_repuestos_cl_inchcape_202403.xlsx']\n"
     ]
    }
   ],
   "source": [
    "maestro = f\"C:/Users/{nombre_usuario}/Inchcape/Planificación y Compras Chile - Documentos/Planificación y Compras Maestros\"\n",
    "dir_maestro = os.listdir(maestro)\n",
    "for c_año in dir_maestro:\n",
    "    if str(datetime.datetime.today().year) in c_año:\n",
    "        c_carpeta = os.path.join(maestro, c_año)\n",
    "        c_mes = os.listdir(c_carpeta)\n",
    "        c_arch = os.path.join(c_carpeta, c_mes[-1])\n",
    "        archivos = os.listdir(c_arch)\n",
    "        print(archivos)\n",
    "        for a in archivos:\n",
    "            if 'COD_ACTUAL_S4' in a:\n",
    "                ruta_cad = os.path.join(c_arch, a)\n",
    "                cadena_de_remplazo = pd.read_excel(ruta_cad, usecols= ['Nro_pieza_fabricante_1',\t'Cod_Actual_1'] )\n",
    "                \n",
    "# ruta_cad_reemplazo = f\"C:/Users/{nombre_usuario}"
   ]
  },
  {
   "cell_type": "code",
   "execution_count": 10,
   "metadata": {},
   "outputs": [],
   "source": [
    "df = pd.merge(stock_suma, cadena_de_remplazo, left_on= 'Material', right_on='Nro_pieza_fabricante_1', how= 'left', suffixes=('Cod_Actual_1', '_Cad_reemplazo'))\n",
    "df.drop('Nro_pieza_fabricante_1', axis=1, inplace=True)\n",
    "df['Cod_Actual_1'].fillna(df['Material'], inplace=True)\n",
    "#df['SEM'] = numero_semana\n",
    "df.drop('Material', axis=1, inplace=True)\n",
    "df_suma = df.groupby(['Cod_Actual_1']).agg({'Libre utilización': 'sum'}).reset_index()"
   ]
  },
  {
   "cell_type": "code",
   "execution_count": 11,
   "metadata": {},
   "outputs": [],
   "source": [
    "\n",
    "fechas_ventas = []\n",
    "semanas_ventas = sorted(os.listdir(carpeta), reverse=True)[1:13]\n",
    "consolidado_ventas = []\n",
    "columnas_ventas = ['Material', 'Venta UMB','Semana ISO'] \n",
    "for ventas in semanas_ventas:\n",
    "    ruta_semana_ventas = os.path.join(carpeta_ventas, ventas)\n",
    "    for ventas in os.listdir(ruta_semana_ventas):\n",
    "        if \"Sell\" in ventas and \"Out\" not in ventas and 'R3' not in ventas:\n",
    "            arc_ventas = os.path.join(ruta_semana_ventas, ventas)\n",
    "            dfv = pd.read_excel(arc_ventas, sheet_name=\"Sheet1\", usecols=columnas_ventas, dtype={'Material':'str'}) #.groupby('Material')['Venta UMB'].sum().reset_index()\n",
    "            fechas_ventas.append(ventas[:10])\n",
    "\n",
    "\n",
    "            consolidado_ventas.append(dfv)\n",
    "df_final_ventas = consolidado_ventas[0]"
   ]
  },
  {
   "cell_type": "code",
   "execution_count": 12,
   "metadata": {},
   "outputs": [
    {
     "name": "stdout",
     "output_type": "stream",
     "text": [
      "Para el promedio de ventas se tomaron los archivos correspondientes a las siguientes fechas: \n",
      "2024.04.01, 2024.03.25, 2024.03.18, 2024.03.11, 2024.03.04, 2024.02.26, 2024.02.22, 2024.02.05, 2024.02.05, 2024.01.29, 2024.01.22, 2024.01.15\n"
     ]
    }
   ],
   "source": [
    "\n",
    "\n",
    "for i in range(1, len(consolidado_ventas)):\n",
    "    #df_final_ventas = pd.merge(df_final_ventas, consolidado_ventas[i], on='Material', how='left', sufixes=(f'_SEM{i}', f'_SEM{i+1}'))\n",
    "\n",
    "    df_final_ventas = pd.concat([df_final_ventas, consolidado_ventas[i]], axis=0, ignore_index=True)\n",
    "\n",
    "df_final_ventas = df_final_ventas.groupby(['Material', 'Semana ISO'])['Venta UMB'].sum().reset_index()\n",
    "df_final_ventas.drop(['Semana ISO'], axis=1)\n",
    "df_final_ventas = df_final_ventas.groupby(['Material'])['Venta UMB'].sum().reset_index()\n",
    "\n",
    "    #df_final_ventas = df_final_ventas.applymap(lambda x: int(x) if '-' not in x else 0)\n",
    "    #df_final_ventas.replace(0, np.nan, inplace=True)\n",
    "\n",
    "\n",
    "    # Filtrar las filas que no contienen un guion '-'\n",
    "\n",
    "    #agrupar por ultimo eslabon\n",
    "\n",
    "df = pd.merge(df_final_ventas, cadena_de_remplazo, left_on= 'Material', right_on='Nro_pieza_fabricante_1', how= 'left', suffixes=('Cod_Actual_1', '_Cad_reemplazo'))\n",
    "df.drop('Nro_pieza_fabricante_1', axis=1, inplace=True)\n",
    "df['Cod_Actual_1'].fillna(df['Material'], inplace=True)\n",
    "#df['SEM'] = numero_semana\n",
    "df.drop('Material', axis=1, inplace=True)\n",
    "ventas_suma = df.groupby(['Cod_Actual_1']).agg({'Venta UMB': 'sum'}).reset_index()\n",
    "\n",
    "\n",
    "#nombre_archivo_ventas = \"Ventas SEM {}.xlsx\".format(datetime.date.today().isocalendar()[1])\n",
    "#ruta_destino = os.path.join(carpeta_destino, nombre_archivo_ventas)\n",
    "# df_consolidado.to_excel(ruta_destino, index=False)\n",
    "\n",
    "# def reemplazar_negativos_con_nan(valor):\n",
    "#     return valor if valor > 0 else None\n",
    "\n",
    "# Aplicar la función solo a las columnas que lo necesitas (desde la segunda columna en adelante)\n",
    "# columnas_a_modificar = df_final_ventas.columns[1:]  # Obtiene las columnas a partir de la segunda\n",
    "# df_final_ventas[columnas_a_modificar] = df_final_ventas[columnas_a_modificar].applymap(reemplazar_negativos_con_nan)\n",
    "\n",
    "\n",
    "# df_final_ventas['Promedio Semanal Ventas'] = df_final_ventas.iloc[:, 1:].mean(axis=1)\n",
    "# columnas = df_final_ventas.columns[1:-1]\n",
    "# df_final_ventas.drop(columnas, axis=1, inplace=True)\n",
    "\n",
    "\n",
    "#ventas_suma.to_excel(ruta_destino, index= False)\n",
    "print('Para el promedio de ventas se tomaron los archivos correspondientes a las siguientes fechas: ' + \"\\n\" + ', '.join(str(ventas) for ventas in fechas_ventas))\n"
   ]
  },
  {
   "cell_type": "code",
   "execution_count": 13,
   "metadata": {},
   "outputs": [
    {
     "data": {
      "text/plain": [
       "2280629.0"
      ]
     },
     "execution_count": 13,
     "metadata": {},
     "output_type": "execute_result"
    }
   ],
   "source": [
    "ventas_suma['Venta UMB'].sum()"
   ]
  },
  {
   "cell_type": "code",
   "execution_count": 14,
   "metadata": {},
   "outputs": [
    {
     "data": {
      "text/plain": [
       "12"
      ]
     },
     "execution_count": 14,
     "metadata": {},
     "output_type": "execute_result"
    }
   ],
   "source": [
    "len(fechas_ventas)"
   ]
  },
  {
   "cell_type": "code",
   "execution_count": 15,
   "metadata": {},
   "outputs": [
    {
     "data": {
      "text/plain": [
       "(17304, 2)"
      ]
     },
     "execution_count": 15,
     "metadata": {},
     "output_type": "execute_result"
    }
   ],
   "source": [
    "df.shape"
   ]
  },
  {
   "cell_type": "code",
   "execution_count": 16,
   "metadata": {},
   "outputs": [],
   "source": [
    "ventas_v_stock = pd.merge(mara_filtrada ,ventas_suma, left_on='ue',right_on='Cod_Actual_1', how= 'left', suffixes=('_Venta UMB', 'Venta UMB'))\n",
    "\n",
    "\n",
    "#ventas_v_stock['SEMANA'] = datetime.datetime.today().isocalendar()[1]\n",
    "#ventas_v_stock.drop('Material', axis=1, inplace=True)\n",
    "\n",
    "#DESDE LA ANTERIOR TRAER STOCK\n",
    "\n",
    "ventas_v_stock_2 = pd.merge(ventas_v_stock, df_suma, left_on='ue', right_on='Cod_Actual_1', how='left', suffixes=('_Libre utilización', 'Stock'))\n",
    "\n",
    "\n",
    "###PRUEBA DE INCORPORAR INSTOCK EN EL CALCULO INICIAL\n",
    "ventas_v_stock_2['Venta UMB'] = ventas_v_stock_2['Venta UMB'].apply(lambda x: 0 if x < 0 else x)\n",
    "ventas_v_stock_2['Venta UMB'] = ventas_v_stock_2['Venta UMB']/6\n",
    "\n",
    "ventas_v_stock_2['Libre utilización'].fillna(0, inplace=True)\n",
    "ventas_v_stock_2['Venta UMB'].fillna(0, inplace=True)\n",
    "\n",
    "\n",
    "def aplicar_condicion(row):\n",
    "    if (row['Libre utilización'] - row['Venta UMB']) >= 0:\n",
    "        return 1\n",
    "    else:\n",
    "        return 0\n",
    "\n",
    "# Aplicar la función usando apply y lambda\n",
    "ventas_v_stock_2['Instock'] = ventas_v_stock_2.apply(lambda row: aplicar_condicion(row), axis=1)\n",
    "\n",
    "\n",
    "\n",
    "\n",
    "\n",
    "\n",
    "\n",
    "\n",
    "\n",
    "#ventas_v_stock.to_excel(carpeta_destino + '/BASE INSTOCK SEM {}.xlsx'.format(numero_semana,numero_semana))\n",
    "ventas_v_stock_2.to_excel(f\"C:/Users/{nombre_usuario}/Inchcape/Planificación y Compras Chile - Documentos/Planificación y Compras KPI-Reportes/Instock Semanal/Bases Instock/2024 Base INSTOCK {nombre_mes} sem {datetime.datetime.today().isocalendar()[1]}.xlsx\")"
   ]
  },
  {
   "cell_type": "code",
   "execution_count": null,
   "metadata": {},
   "outputs": [
    {
     "data": {
      "text/plain": [
       "1996323.0"
      ]
     },
     "execution_count": 21,
     "metadata": {},
     "output_type": "execute_result"
    }
   ],
   "source": [
    "ventas_v_stock['Venta UMB'].sum()\n",
    "#rango aprox 1996323"
   ]
  },
  {
   "cell_type": "code",
   "execution_count": 17,
   "metadata": {},
   "outputs": [
    {
     "data": {
      "text/html": [
       "<div>\n",
       "<style scoped>\n",
       "    .dataframe tbody tr th:only-of-type {\n",
       "        vertical-align: middle;\n",
       "    }\n",
       "\n",
       "    .dataframe tbody tr th {\n",
       "        vertical-align: top;\n",
       "    }\n",
       "\n",
       "    .dataframe thead th {\n",
       "        text-align: right;\n",
       "    }\n",
       "</style>\n",
       "<table border=\"1\" class=\"dataframe\">\n",
       "  <thead>\n",
       "    <tr style=\"text-align: right;\">\n",
       "      <th></th>\n",
       "      <th>Cod_Actual_1</th>\n",
       "      <th>Venta UMB</th>\n",
       "    </tr>\n",
       "  </thead>\n",
       "  <tbody>\n",
       "    <tr>\n",
       "      <th>0</th>\n",
       "      <td>1000148</td>\n",
       "      <td>36.0</td>\n",
       "    </tr>\n",
       "    <tr>\n",
       "      <th>1</th>\n",
       "      <td>1000149</td>\n",
       "      <td>542.0</td>\n",
       "    </tr>\n",
       "    <tr>\n",
       "      <th>2</th>\n",
       "      <td>1000150</td>\n",
       "      <td>486.0</td>\n",
       "    </tr>\n",
       "    <tr>\n",
       "      <th>3</th>\n",
       "      <td>1000151</td>\n",
       "      <td>277.0</td>\n",
       "    </tr>\n",
       "    <tr>\n",
       "      <th>4</th>\n",
       "      <td>1000152</td>\n",
       "      <td>228.0</td>\n",
       "    </tr>\n",
       "    <tr>\n",
       "      <th>...</th>\n",
       "      <td>...</td>\n",
       "      <td>...</td>\n",
       "    </tr>\n",
       "    <tr>\n",
       "      <th>17178</th>\n",
       "      <td>OTS100968</td>\n",
       "      <td>1000.0</td>\n",
       "    </tr>\n",
       "    <tr>\n",
       "      <th>17179</th>\n",
       "      <td>OTSG100862</td>\n",
       "      <td>360.0</td>\n",
       "    </tr>\n",
       "    <tr>\n",
       "      <th>17180</th>\n",
       "      <td>OTSG100883</td>\n",
       "      <td>4.0</td>\n",
       "    </tr>\n",
       "    <tr>\n",
       "      <th>17181</th>\n",
       "      <td>OTSG100900</td>\n",
       "      <td>300.0</td>\n",
       "    </tr>\n",
       "    <tr>\n",
       "      <th>17182</th>\n",
       "      <td>OTSG100977</td>\n",
       "      <td>1.0</td>\n",
       "    </tr>\n",
       "  </tbody>\n",
       "</table>\n",
       "<p>17183 rows × 2 columns</p>\n",
       "</div>"
      ],
      "text/plain": [
       "      Cod_Actual_1  Venta UMB\n",
       "0          1000148       36.0\n",
       "1          1000149      542.0\n",
       "2          1000150      486.0\n",
       "3          1000151      277.0\n",
       "4          1000152      228.0\n",
       "...            ...        ...\n",
       "17178    OTS100968     1000.0\n",
       "17179   OTSG100862      360.0\n",
       "17180   OTSG100883        4.0\n",
       "17181   OTSG100900      300.0\n",
       "17182   OTSG100977        1.0\n",
       "\n",
       "[17183 rows x 2 columns]"
      ]
     },
     "execution_count": 17,
     "metadata": {},
     "output_type": "execute_result"
    }
   ],
   "source": [
    "ventas_suma"
   ]
  },
  {
   "cell_type": "code",
   "execution_count": 18,
   "metadata": {},
   "outputs": [
    {
     "data": {
      "text/plain": [
       "2122781.0"
      ]
     },
     "execution_count": 18,
     "metadata": {},
     "output_type": "execute_result"
    }
   ],
   "source": [
    "ventas_v_stock['Venta UMB'].sum()"
   ]
  },
  {
   "cell_type": "code",
   "execution_count": 20,
   "metadata": {},
   "outputs": [],
   "source": [
    "vigencia = pd.read_excel(f\"C:/Users/{nombre_usuario}/Inchcape/Planificación y Compras Chile - Documentos/Planificación y Compras Maestros/Vigencias/{hoy[:7]} Vigencia Demanda AFM.xlsx\", usecols=['ue','Segmentacion Aftermarket','Categoria ClaCom','CES 01','Mayorista','Sodimac','Easy','Walmart','SMU','Tottus','Retail (AP-AG)', 'Agrupacion ClaCom','Subagrupacion ClaCom',\t'Categoria ClaCom',\t'Subcategoria ClaCom'])\n",
    "#return cadena_de_reemplazo\n",
    "#print(a)\n",
    "\n",
    "\n",
    "\n",
    "vigencia['Segmentacion Aftermarket'] = vigencia['Segmentacion Aftermarket'].replace('SIN SEGMENTACION', 0)\n",
    "vigencia['Segmentacion Aftermarket'] = vigencia['Segmentacion Aftermarket'].replace('NO APLICA', 0)\n",
    "\n",
    "\n",
    "vigencia['Segmentacion Aftermarket'] = vigencia['Segmentacion Aftermarket'].fillna(0)\n",
    "vigencia['Segmentacion Aftermarket'] = vigencia['Segmentacion Aftermarket'].astype(int)\n",
    "\n",
    "\n",
    "def custom_max_zero(column):\n",
    "    if (column == 0).all():\n",
    "        return 0\n",
    "    else:\n",
    "        return column.max()\n",
    "\n",
    "vigencia_agrupada = vigencia.groupby(['ue']).agg({\n",
    "'Segmentacion Aftermarket': custom_max_zero,\n",
    "'CES 01': 'sum',\n",
    "\n",
    "'Mayorista': 'sum',\n",
    "'Sodimac': 'sum',\n",
    "'Easy': 'sum',\n",
    "'Walmart': 'sum',\n",
    "'SMU': 'sum',\n",
    "'Tottus': 'sum',\n",
    "'Retail (AP-AG)': 'sum',\n",
    "'Agrupacion ClaCom': 'first',\n",
    "'Subagrupacion ClaCom': 'first',\n",
    "'Categoria ClaCom': 'first',\n",
    "'Subcategoria ClaCom': 'first'}).reset_index()\n",
    "\n",
    "vigencia_agrupada['Segmentacion Aftermarket'] = vigencia_agrupada['Segmentacion Aftermarket'].replace(0, 'SIN SEGMENTACION')\n",
    "vigencia_agrupada.to_excel(f'C:/Users/{nombre_usuario}/Inchcape/Planificación y Compras Chile - Documentos/Planificación y Compras KPI-Reportes/Instock Semanal/Bases Vigencias' + f'/BASE VIGENCIAS {nombre_mes} SEM {numero_semana}.xlsx')\n",
    "\n"
   ]
  },
  {
   "cell_type": "code",
   "execution_count": null,
   "metadata": {},
   "outputs": [
    {
     "data": {
      "text/plain": [
       "3246542.001"
      ]
     },
     "execution_count": 26,
     "metadata": {},
     "output_type": "execute_result"
    }
   ],
   "source": [
    "ventas_v_stock_2['Libre utilización'].sum()"
   ]
  },
  {
   "cell_type": "code",
   "execution_count": null,
   "metadata": {},
   "outputs": [
    {
     "data": {
      "text/plain": [
       "1750786.005"
      ]
     },
     "execution_count": 27,
     "metadata": {},
     "output_type": "execute_result"
    }
   ],
   "source": [
    "ventas_v_stock_2[ventas_v_stock_2['Nombre Sector']=='Accesorios-Car Care']['Libre utilización'].sum()\n",
    "# rango aprox = 1750786"
   ]
  }
 ],
 "metadata": {
  "kernelspec": {
   "display_name": "Python 3",
   "language": "python",
   "name": "python3"
  },
  "language_info": {
   "codemirror_mode": {
    "name": "ipython",
    "version": 3
   },
   "file_extension": ".py",
   "mimetype": "text/x-python",
   "name": "python",
   "nbconvert_exporter": "python",
   "pygments_lexer": "ipython3",
   "version": "3.12.0"
  }
 },
 "nbformat": 4,
 "nbformat_minor": 2
}
